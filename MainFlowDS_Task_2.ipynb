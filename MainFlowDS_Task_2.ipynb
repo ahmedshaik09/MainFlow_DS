{
  "nbformat": 4,
  "nbformat_minor": 0,
  "metadata": {
    "colab": {
      "provenance": []
    },
    "kernelspec": {
      "name": "python3",
      "display_name": "Python 3"
    },
    "language_info": {
      "name": "python"
    }
  },
  "cells": [
    {
      "cell_type": "code",
      "execution_count": 1,
      "metadata": {
        "id": "2TIXy73Bs9jq"
      },
      "outputs": [],
      "source": [
        "import pandas as pd\n"
      ]
    },
    {
      "cell_type": "code",
      "source": [
        "file_path = 'testset.csv'\n",
        "df = pd.read_csv(file_path)"
      ],
      "metadata": {
        "id": "eUfYrsggtVFh"
      },
      "execution_count": 2,
      "outputs": []
    },
    {
      "cell_type": "code",
      "source": [
        "print(\"First few rows of the DataFrame:\")\n",
        "print(df.head())"
      ],
      "metadata": {
        "colab": {
          "base_uri": "https://localhost:8080/"
        },
        "id": "zT7MnSN9tfwO",
        "outputId": "e5cf7b15-3afd-4e20-ef5a-e8b497c23dcc"
      },
      "execution_count": 3,
      "outputs": [
        {
          "output_type": "stream",
          "name": "stdout",
          "text": [
            "First few rows of the DataFrame:\n",
            "     datetime_utc  _conds   _dewptm   _fog   _hail   _heatindexm   _hum  \\\n",
            "0  19961101-11:00   Smoke       9.0      0       0           NaN   27.0   \n",
            "1  19961101-12:00   Smoke      10.0      0       0           NaN   32.0   \n",
            "2  19961101-13:00   Smoke      11.0      0       0           NaN   44.0   \n",
            "3  19961101-14:00   Smoke      10.0      0       0           NaN   41.0   \n",
            "4  19961101-16:00   Smoke      11.0      0       0           NaN   47.0   \n",
            "\n",
            "    _precipm   _pressurem   _rain   _snow   _tempm   _thunder   _tornado  \\\n",
            "0        NaN       1010.0       0       0     30.0          0          0   \n",
            "1        NaN      -9999.0       0       0     28.0          0          0   \n",
            "2        NaN      -9999.0       0       0     24.0          0          0   \n",
            "3        NaN       1010.0       0       0     24.0          0          0   \n",
            "4        NaN       1011.0       0       0     23.0          0          0   \n",
            "\n",
            "    _vism   _wdird  _wdire   _wgustm   _windchillm   _wspdm  \n",
            "0     5.0      280    West       NaN           NaN      7.4  \n",
            "1     NaN        0   North       NaN           NaN      NaN  \n",
            "2     NaN        0   North       NaN           NaN      NaN  \n",
            "3     2.0        0   North       NaN           NaN      NaN  \n",
            "4     1.2        0   North       NaN           NaN      0.0  \n"
          ]
        }
      ]
    },
    {
      "cell_type": "code",
      "source": [
        "filtered_df = df[df['_tempm'] > 25]\n",
        "print(\"\\nFiltered DataFrame where temperature is greater than 25:\")\n",
        "print(filtered_df.head())"
      ],
      "metadata": {
        "id": "YdRjh8MjwB7R"
      },
      "execution_count": null,
      "outputs": []
    },
    {
      "cell_type": "code",
      "source": [
        "df.replace(-9999, pd.NA, inplace=True)\n"
      ],
      "metadata": {
        "id": "3p_-lWinulu-"
      },
      "execution_count": 8,
      "outputs": []
    },
    {
      "cell_type": "code",
      "source": [
        "df['_tempm'].fillna(df['_tempm'].mean(), inplace=True)\n",
        "df_cleaned = df.dropna(subset=['_pressurem'])"
      ],
      "metadata": {
        "id": "x6DrYm1twPl3"
      },
      "execution_count": null,
      "outputs": []
    },
    {
      "cell_type": "code",
      "source": [
        "summary_stats = df.describe()\n"
      ],
      "metadata": {
        "id": "XBscF2XQv27u"
      },
      "execution_count": 14,
      "outputs": []
    },
    {
      "cell_type": "code",
      "source": [
        "print(summary_stats)\n"
      ],
      "metadata": {
        "colab": {
          "base_uri": "https://localhost:8080/"
        },
        "id": "2a8giAaKv4Qa",
        "outputId": "f88e8c05-0daf-4010-e8d3-27ae9e18ce8b"
      },
      "execution_count": 15,
      "outputs": [
        {
          "output_type": "stream",
          "name": "stdout",
          "text": [
            "            _dewptm          _fog    _hail  _heatindexm          _hum  \\\n",
            "count  15296.000000  15462.000000  15462.0  7209.000000  15287.000000   \n",
            "mean      15.987448      0.076187      0.0    35.833347     61.855171   \n",
            "std        7.505829      0.265305      0.0     5.159691     24.098490   \n",
            "min      -24.000000      0.000000      0.0    26.800000      4.000000   \n",
            "25%       10.000000      0.000000      0.0    31.800000     42.000000   \n",
            "50%       16.000000      0.000000      0.0    35.200000     62.000000   \n",
            "75%       22.000000      0.000000      0.0    39.300000     82.000000   \n",
            "max       33.000000      1.000000      0.0    61.200000    100.000000   \n",
            "\n",
            "       _precipm         _rain    _snow        _tempm      _thunder  \\\n",
            "count       0.0  15462.000000  15462.0  15293.000000  15462.000000   \n",
            "mean        NaN      0.028392      0.0     25.289871      0.009960   \n",
            "std         NaN      0.166096      0.0      8.443524      0.099304   \n",
            "min         NaN      0.000000      0.0      3.000000      0.000000   \n",
            "25%         NaN      0.000000      0.0     19.000000      0.000000   \n",
            "50%         NaN      0.000000      0.0     27.000000      0.000000   \n",
            "75%         NaN      0.000000      0.0     31.000000      0.000000   \n",
            "max         NaN      1.000000      0.0     72.000000      1.000000   \n",
            "\n",
            "           _tornado         _vism        _wdird     _wgustm  _windchillm  \\\n",
            "count  15462.000000  14093.000000  15462.000000  224.000000   113.000000   \n",
            "mean       0.000065      2.859916    138.613569   37.721875     5.550442   \n",
            "std        0.008042      1.568118    120.975309    7.981577     1.193593   \n",
            "min        0.000000      0.000000      0.000000   27.800000     2.100000   \n",
            "25%        0.000000      1.700000      0.000000   33.300000     4.500000   \n",
            "50%        0.000000      2.500000    110.000000   37.000000     5.700000   \n",
            "75%        0.000000      4.000000    260.000000   40.700000     6.400000   \n",
            "max        1.000000     10.000000    620.000000   74.100000     7.300000   \n",
            "\n",
            "             _wspdm  \n",
            "count  14498.000000  \n",
            "mean       8.539205  \n",
            "std       18.913151  \n",
            "min        0.000000  \n",
            "25%        0.000000  \n",
            "50%        7.400000  \n",
            "75%       13.000000  \n",
            "max     1514.900000  \n"
          ]
        }
      ]
    }
  ]
}