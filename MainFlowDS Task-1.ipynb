{
 "cells": [
  {
   "cell_type": "code",
   "execution_count": 5,
   "id": "83c7fec5",
   "metadata": {},
   "outputs": [
    {
     "name": "stdout",
     "output_type": "stream",
     "text": [
      "Original List: [11, 22, 33, 44, 55]\n",
      "List after adding an element: [11, 22, 33, 44, 55, 66]\n",
      "List after removing an element: [11, 22, 33, 55, 66]\n",
      "List after modifying an element: [100, 22, 33, 55, 66]\n"
     ]
    }
   ],
   "source": [
    "# Creating a list\n",
    "my_list = [11, 22, 33, 44, 55]\n",
    "print(\"Original List:\", my_list)\n",
    "\n",
    "# Adding an element to the list\n",
    "my_list.append(66)\n",
    "print(\"List after adding an element:\", my_list)\n",
    "\n",
    "# Removing an element from the list\n",
    "my_list.remove(44)\n",
    "print(\"List after removing an element:\", my_list)\n",
    "\n",
    "# Modifying an element in the list\n",
    "my_list[0] = 100\n",
    "print(\"List after modifying an element:\", my_list)"
   ]
  },
  {
   "cell_type": "code",
   "execution_count": 3,
   "id": "da776f1c",
   "metadata": {},
   "outputs": [
    {
     "name": "stdout",
     "output_type": "stream",
     "text": [
      "Original Dictionary: {'name': 'Shaik', 'age': 20, 'city': 'Hyderabad'}\n",
      "Dictionary after adding a key-value pair: {'name': 'Shaik', 'age': 20, 'city': 'Hyderabad', 'country': 'India'}\n",
      "Dictionary after removing a key-value pair: {'name': 'Shaik', 'city': 'Hyderabad', 'country': 'India'}\n",
      "Dictionary after modifying a value: {'name': 'Ahmed', 'city': 'Hyderabad', 'country': 'India'}\n"
     ]
    }
   ],
   "source": [
    "# Creating a dictionary\n",
    "my_dict = {\"name\": \"Shaik\", \"age\": 20, \"city\": \"Hyderabad\"}\n",
    "print(\"Original Dictionary:\", my_dict)\n",
    "\n",
    "# Adding a key-value pair to the dictionary\n",
    "my_dict[\"country\"] = \"India\"\n",
    "print(\"Dictionary after adding a key-value pair:\", my_dict)\n",
    "\n",
    "# Removing a key-value pair from the dictionary\n",
    "del my_dict[\"age\"]\n",
    "print(\"Dictionary after removing a key-value pair:\", my_dict)\n",
    "\n",
    "# Modifying a value in the dictionary\n",
    "my_dict[\"name\"] = \"Ahmed\"\n",
    "print(\"Dictionary after modifying a value:\", my_dict)"
   ]
  },
  {
   "cell_type": "code",
   "execution_count": 4,
   "id": "e61ad39e",
   "metadata": {},
   "outputs": [
    {
     "name": "stdout",
     "output_type": "stream",
     "text": [
      "Original Set: {50, 20, 40, 10, 30}\n",
      "Set after adding an element: {50, 20, 40, 10, 60, 30}\n",
      "Set after removing an element: {50, 20, 10, 60, 30}\n"
     ]
    }
   ],
   "source": [
    "# Creating a set\n",
    "my_set = {10, 20, 30, 40, 50}\n",
    "print(\"Original Set:\", my_set)\n",
    "\n",
    "# Adding an element to the set\n",
    "my_set.add(60)\n",
    "print(\"Set after adding an element:\", my_set)\n",
    "\n",
    "# Removing an element from the set\n",
    "my_set.remove(40)\n",
    "print(\"Set after removing an element:\", my_set)"
   ]
  },
  {
   "cell_type": "code",
   "execution_count": null,
   "id": "84a43a4f",
   "metadata": {},
   "outputs": [],
   "source": []
  }
 ],
 "metadata": {
  "kernelspec": {
   "display_name": "Python 3 (ipykernel)",
   "language": "python",
   "name": "python3"
  },
  "language_info": {
   "codemirror_mode": {
    "name": "ipython",
    "version": 3
   },
   "file_extension": ".py",
   "mimetype": "text/x-python",
   "name": "python",
   "nbconvert_exporter": "python",
   "pygments_lexer": "ipython3",
   "version": "3.9.13"
  }
 },
 "nbformat": 4,
 "nbformat_minor": 5
}
